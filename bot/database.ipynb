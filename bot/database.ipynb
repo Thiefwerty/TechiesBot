{
 "cells": [
  {
   "cell_type": "code",
   "execution_count": 3,
   "metadata": {},
   "outputs": [],
   "source": [
    "import pandas as pd\n",
    "import numpy as np\n",
    "from datetime import datetime"
   ]
  },
  {
   "cell_type": "code",
   "execution_count": 197,
   "metadata": {},
   "outputs": [],
   "source": [
    "class DatabaseManager:\n",
    "    def __init__(self):\n",
    "        self.changed = False\n",
    "        try:\n",
    "            self.df = pd.read_csv('database.csv')\n",
    "        except:\n",
    "            self.df = pd.DataFrame()\n",
    "            self.df.to_csv('database.csv', index=False)\n",
    "\n",
    "    def add_match(self, result):\n",
    "        self.df = self.df.append({'Date': datetime.now().strftime(\n",
    "            \"%d/%m/%Y %H:%M:%S\"), 'result': result}, ignore_index=True)\n",
    "        self.changed = True\n",
    "\n",
    "    def remove_match(self):\n",
    "        self.df = self.df.iloc[:-1, :]\n",
    "        self.changed = True\n",
    "\n",
    "    def save_data(self):\n",
    "        if self.changed:\n",
    "            self.df.to_csv('database.csv', index=False)\n",
    "            print(datetime.now().strftime(\"%d/%m/%Y %H:%M:%S\"), 'data saved')\n",
    "        self.changed = False\n",
    "\n",
    "    def get_stats(self, matches):\n",
    "        return self.df.tail(min(int(matches), 50)).copy()\n",
    "\n",
    "    def format_stats(self, matches):\n",
    "        df = self.get_stats(matches)\n",
    "        df['Time'] = df['Date'].apply(lambda x: x.split()[1])\n",
    "        df['Date'] = df['Date'].apply(lambda x: x.split()[0])\n",
    "        df = df[['Date', 'Time', 'result']]\n",
    "        return df\n",
    "    \n",
    "    def table_print(self, matches = 5):\n",
    "        df = self.format_stats(matches)\n",
    "        table = ''\n",
    "        index = np.array([['Дата', 'Время', 'Результат']])\n",
    "        df = np.vstack([index, df.values])\n",
    "        part_lengths = [0] * df.shape[1]\n",
    "        for i in range(df.shape[1]):\n",
    "            part_lengths[i] = max(map(len, df[:, i])) + 2\n",
    "\n",
    "        start = '╔' + '╦'.join(map(lambda x: '═' * x, part_lengths)) + '╗\\n'\n",
    "        delim = '╠' + '╬'.join(map(lambda x: '═' * x, part_lengths)) + '╣\\n'\n",
    "        end =   '╚' + '╩'.join(map(lambda x: '═' * x, part_lengths)) + '╝'\n",
    "        table += start\n",
    "        for i in range(len(df)):\n",
    "            s = '║'\n",
    "            for j in range(len(df[i])):\n",
    "                s += ' ' + df[i][j] + ' ' * (part_lengths[j] - len(df[i][j]) - 1) + '║'\n",
    "            table += s\n",
    "            table += '\\n'\n",
    "            if i != len(df) - 1:\n",
    "                table += delim\n",
    "        table += end\n",
    "        return table\n",
    "        "
   ]
  },
  {
   "cell_type": "code",
   "execution_count": null,
   "metadata": {},
   "outputs": [],
   "source": []
  }
 ],
 "metadata": {
  "finalized": {
   "timestamp": 1622496559577,
   "trusted": true
  },
  "kernelspec": {
   "display_name": "Python 3",
   "language": "python",
   "name": "python3"
  },
  "language_info": {
   "codemirror_mode": {
    "name": "ipython",
    "version": 3
   },
   "file_extension": ".py",
   "mimetype": "text/x-python",
   "name": "python",
   "nbconvert_exporter": "python",
   "pygments_lexer": "ipython3",
   "version": "3.8.5"
  },
  "varInspector": {
   "cols": {
    "lenName": 16,
    "lenType": 16,
    "lenVar": 40
   },
   "kernels_config": {
    "python": {
     "delete_cmd_postfix": "",
     "delete_cmd_prefix": "del ",
     "library": "var_list.py",
     "varRefreshCmd": "print(var_dic_list())"
    },
    "r": {
     "delete_cmd_postfix": ") ",
     "delete_cmd_prefix": "rm(",
     "library": "var_list.r",
     "varRefreshCmd": "cat(var_dic_list()) "
    }
   },
   "types_to_exclude": [
    "module",
    "function",
    "builtin_function_or_method",
    "instance",
    "_Feature"
   ],
   "window_display": false
  }
 },
 "nbformat": 4,
 "nbformat_minor": 4
}
